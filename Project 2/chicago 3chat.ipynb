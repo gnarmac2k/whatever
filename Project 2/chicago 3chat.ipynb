{
 "cells": [
  {
   "cell_type": "code",
   "execution_count": 15,
   "id": "2e60f1fe-b5a1-4e2c-a80d-d93e873b2d78",
   "metadata": {},
   "outputs": [],
   "source": [
    "from pathlib import Path\n",
    "import pandas as pd\n",
    "from sklearn.model_selection import train_test_split\n",
    "from sklearn.ensemble import RandomForestClassifier\n",
    "from sklearn.metrics import accuracy_score, classification_report\n",
    "import re\n",
    "import nltk\n",
    "from nltk.tokenize import word_tokenize\n",
    "from sklearn.feature_extraction.text import TfidfVectorizer"
   ]
  },
  {
   "cell_type": "code",
   "execution_count": 16,
   "id": "c7c851d4-321d-4d00-8913-9ba9c737bf92",
   "metadata": {},
   "outputs": [],
   "source": [
    "# Load the CSV data\n",
    "csv_path = Path(\"chicago_crime.csv\")\n",
    "df = pd.read_csv(csv_path)"
   ]
  },
  {
   "cell_type": "code",
   "execution_count": 17,
   "id": "b5ae948e-b51d-4081-b5dc-88a22b9fda1c",
   "metadata": {},
   "outputs": [
    {
     "name": "stdout",
     "output_type": "stream",
     "text": [
      "CASE#                        0\n",
      "DATE  OF OCCURRENCE          0\n",
      "BLOCK                        0\n",
      " IUCR                        0\n",
      " PRIMARY DESCRIPTION         0\n",
      " SECONDARY DESCRIPTION       0\n",
      " LOCATION DESCRIPTION     1053\n",
      "ARREST                       0\n",
      "DOMESTIC                     0\n",
      "BEAT                         0\n",
      "WARD                         6\n",
      "FBI CD                       0\n",
      "X COORDINATE              4073\n",
      "Y COORDINATE              4073\n",
      "LATITUDE                  4073\n",
      "LONGITUDE                 4073\n",
      "LOCATION                  4073\n",
      "dtype: int64\n"
     ]
    }
   ],
   "source": [
    "print(df.isnull().sum())"
   ]
  },
  {
   "cell_type": "code",
   "execution_count": 18,
   "id": "7309cebc-a644-45bb-8def-16f5dd9fd4ee",
   "metadata": {},
   "outputs": [],
   "source": [
    "df.dropna(subset=['WARD'], inplace=True)"
   ]
  },
  {
   "cell_type": "code",
   "execution_count": 19,
   "id": "f0d03307-07e0-434d-a697-59f1598831f2",
   "metadata": {},
   "outputs": [],
   "source": [
    "# Preprocessing steps\n",
    "df[' PRIMARY DESCRIPTION'] = df[' PRIMARY DESCRIPTION'].str.lower()\n",
    "df[' PRIMARY DESCRIPTION'] = df[' PRIMARY DESCRIPTION'].apply(lambda x: re.sub(r'[^a-zA-Z\\s]', '', x))\n",
    "df[' PRIMARY DESCRIPTION'] = df[' PRIMARY DESCRIPTION'].apply(lambda x: word_tokenize(x))\n",
    "df[' PRIMARY DESCRIPTION'] = df[' PRIMARY DESCRIPTION'].apply(lambda x: ' '.join(x))\n",
    "df[' PRIMARY DESCRIPTION'] = df[' PRIMARY DESCRIPTION'].str.lower()"
   ]
  },
  {
   "cell_type": "code",
   "execution_count": 20,
   "id": "186d0a82-34c7-4f24-b8a4-845f5aea12c3",
   "metadata": {},
   "outputs": [],
   "source": [
    "# Create TF-IDF vectors\n",
    "vectorizer = TfidfVectorizer()\n",
    "X_tfidf = vectorizer.fit_transform(df[' PRIMARY DESCRIPTION'])"
   ]
  },
  {
   "cell_type": "code",
   "execution_count": 21,
   "id": "18699007-bbd6-4cd5-bee9-dc16535e4422",
   "metadata": {},
   "outputs": [],
   "source": [
    "# Define features and target\n",
    "X = X_tfidf  # Use TF-IDF vectors as features\n",
    "y = df['WARD']"
   ]
  },
  {
   "cell_type": "code",
   "execution_count": 22,
   "id": "de06ddbf-6ae9-4efe-8b99-0ba47483a291",
   "metadata": {},
   "outputs": [],
   "source": [
    "# Split the data into training and testing sets\n",
    "X_train, X_test, y_train, y_test = train_test_split(X, y, test_size=0.3, random_state=42)"
   ]
  },
  {
   "cell_type": "code",
   "execution_count": 23,
   "id": "8f9d120c-2766-46b9-bcdd-2a516178e6ee",
   "metadata": {},
   "outputs": [
    {
     "data": {
      "text/plain": [
       "RandomForestClassifier(max_depth=10, random_state=42)"
      ]
     },
     "execution_count": 23,
     "metadata": {},
     "output_type": "execute_result"
    }
   ],
   "source": [
    "# Initialize and train the Random Forest model\n",
    "random_forest = RandomForestClassifier(n_estimators=100, max_depth=10, random_state=42)\n",
    "random_forest.fit(X_train, y_train)"
   ]
  },
  {
   "cell_type": "code",
   "execution_count": 24,
   "id": "8d8fe4b8-70e4-4874-9096-ece85a516179",
   "metadata": {},
   "outputs": [],
   "source": [
    "# Make predictions using the trained model\n",
    "y_pred = random_forest.predict(X_test)"
   ]
  },
  {
   "cell_type": "code",
   "execution_count": 25,
   "id": "4dffce19-3361-4fe4-b894-5139d80fd252",
   "metadata": {},
   "outputs": [],
   "source": [
    "# Evaluate the model's accuracy\n",
    "accuracy = accuracy_score(y_test, y_pred)"
   ]
  },
  {
   "cell_type": "code",
   "execution_count": 26,
   "id": "646d63b7-cc88-43a5-8c71-69a31cede1ec",
   "metadata": {},
   "outputs": [
    {
     "name": "stderr",
     "output_type": "stream",
     "text": [
      "C:\\Users\\Richard McConkie\\anaconda3\\envs\\dev\\lib\\site-packages\\sklearn\\metrics\\_classification.py:1318: UndefinedMetricWarning: Precision and F-score are ill-defined and being set to 0.0 in labels with no predicted samples. Use `zero_division` parameter to control this behavior.\n",
      "  _warn_prf(average, modifier, msg_start, len(result))\n",
      "C:\\Users\\Richard McConkie\\anaconda3\\envs\\dev\\lib\\site-packages\\sklearn\\metrics\\_classification.py:1318: UndefinedMetricWarning: Precision and F-score are ill-defined and being set to 0.0 in labels with no predicted samples. Use `zero_division` parameter to control this behavior.\n",
      "  _warn_prf(average, modifier, msg_start, len(result))\n",
      "C:\\Users\\Richard McConkie\\anaconda3\\envs\\dev\\lib\\site-packages\\sklearn\\metrics\\_classification.py:1318: UndefinedMetricWarning: Precision and F-score are ill-defined and being set to 0.0 in labels with no predicted samples. Use `zero_division` parameter to control this behavior.\n",
      "  _warn_prf(average, modifier, msg_start, len(result))\n"
     ]
    }
   ],
   "source": [
    "# Generate a classification report for more detailed metrics\n",
    "report = classification_report(y_test, y_pred)"
   ]
  },
  {
   "cell_type": "code",
   "execution_count": 27,
   "id": "4ed3c405-67d4-40ca-bfb9-eef44b658f4a",
   "metadata": {},
   "outputs": [
    {
     "name": "stdout",
     "output_type": "stream",
     "text": [
      "Accuracy: 0.05938316372285257\n",
      "Classification Report:\n",
      "              precision    recall  f1-score   support\n",
      "\n",
      "         1.0       0.00      0.00      0.00      1428\n",
      "         2.0       0.00      0.00      0.00      1160\n",
      "         3.0       0.00      0.00      0.00      2194\n",
      "         4.0       0.00      0.00      0.00      2551\n",
      "         5.0       0.00      0.00      0.00      1998\n",
      "         6.0       0.05      0.04      0.04      2841\n",
      "         7.0       0.00      0.00      0.00      2518\n",
      "         8.0       0.00      0.00      0.00      2405\n",
      "         9.0       0.00      0.00      0.00      2280\n",
      "        10.0       0.00      0.00      0.00      1530\n",
      "        11.0       0.00      0.00      0.00       995\n",
      "        12.0       0.00      0.00      0.00       867\n",
      "        13.0       0.00      0.00      0.00       806\n",
      "        14.0       0.00      0.00      0.00      1013\n",
      "        15.0       0.00      0.00      0.00      1133\n",
      "        16.0       0.00      0.00      0.00      1977\n",
      "        17.0       0.00      0.00      0.00      2323\n",
      "        18.0       0.00      0.00      0.00      1138\n",
      "        19.0       0.00      0.00      0.00       672\n",
      "        20.0       0.00      0.00      0.00      2466\n",
      "        21.0       0.00      0.00      0.00      2358\n",
      "        22.0       0.00      0.00      0.00       984\n",
      "        23.0       0.00      0.00      0.00       864\n",
      "        24.0       0.55      0.02      0.03      2623\n",
      "        25.0       0.00      0.00      0.00      1503\n",
      "        26.0       0.00      0.00      0.00      1317\n",
      "        27.0       0.06      0.05      0.06      3481\n",
      "        28.0       0.05      0.69      0.09      3204\n",
      "        29.0       0.00      0.00      0.00      1723\n",
      "        30.0       0.00      0.00      0.00       853\n",
      "        31.0       0.00      0.00      0.00      1008\n",
      "        32.0       0.00      0.00      0.00      1007\n",
      "        33.0       0.00      0.00      0.00       868\n",
      "        34.0       0.00      0.00      0.00      1922\n",
      "        35.0       0.00      0.00      0.00       916\n",
      "        36.0       0.00      0.00      0.00      1043\n",
      "        37.0       0.00      0.00      0.00      1979\n",
      "        38.0       0.00      0.00      0.00       661\n",
      "        39.0       0.00      0.00      0.00       791\n",
      "        40.0       0.00      0.00      0.00      1003\n",
      "        41.0       0.17      0.01      0.02       975\n",
      "        42.0       0.08      0.59      0.14      3361\n",
      "        43.0       0.00      0.00      0.00       824\n",
      "        44.0       0.00      0.00      0.00      1192\n",
      "        45.0       0.00      0.00      0.00       878\n",
      "        46.0       0.00      0.00      0.00      1242\n",
      "        47.0       0.00      0.00      0.00       851\n",
      "        48.0       0.00      0.00      0.00      1043\n",
      "        49.0       0.00      0.00      0.00      1282\n",
      "        50.0       0.00      0.00      0.00       890\n",
      "\n",
      "    accuracy                           0.06     76941\n",
      "   macro avg       0.02      0.03      0.01     76941\n",
      "weighted avg       0.03      0.06      0.02     76941\n",
      "\n"
     ]
    }
   ],
   "source": [
    "print(f'Accuracy: {accuracy}')\n",
    "print(f'Classification Report:\\n{report}')"
   ]
  }
 ],
 "metadata": {
  "kernelspec": {
   "display_name": "Python 3 (ipykernel)",
   "language": "python",
   "name": "python3"
  },
  "language_info": {
   "codemirror_mode": {
    "name": "ipython",
    "version": 3
   },
   "file_extension": ".py",
   "mimetype": "text/x-python",
   "name": "python",
   "nbconvert_exporter": "python",
   "pygments_lexer": "ipython3",
   "version": "3.7.13"
  }
 },
 "nbformat": 4,
 "nbformat_minor": 5
}
