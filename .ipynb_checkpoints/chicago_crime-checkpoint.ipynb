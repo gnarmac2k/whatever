{
 "cells": [
  {
   "cell_type": "code",
   "execution_count": 39,
   "id": "64a1b0e1-c008-41c6-9599-bce311597b5f",
   "metadata": {},
   "outputs": [],
   "source": [
    "import pandas as pd\n",
    "import seaborn as sns\n",
    "import matplotlib.pyplot as plt\n",
    "import plotly.graph_objects as go\n",
    "df = pd.read_csv(\"crime_map_data.csv\")"
   ]
  },
  {
   "cell_type": "code",
   "execution_count": 40,
   "id": "e0355598-f443-4bc4-8943-9e2cef5d13cc",
   "metadata": {},
   "outputs": [],
   "source": [
    "num_rows, num_columns = df.shape\n",
    "column_names = df.columns\n",
    "df.rename(columns={'DATE  OF OCCURRENCE': 'DATE'}, inplace=True)"
   ]
  },
  {
   "cell_type": "code",
   "execution_count": 33,
   "id": "e3b35307-b6dc-4a17-a9f2-9efaad8dd260",
   "metadata": {},
   "outputs": [
    {
     "name": "stdout",
     "output_type": "stream",
     "text": [
      "Row Count: 255799\n",
      "Column Count: 17\n",
      "Column Names: Index(['CASE#', 'DATE  OF OCCURRENCE', 'BLOCK', ' IUCR',\n",
      "       ' PRIMARY DESCRIPTION', ' SECONDARY DESCRIPTION',\n",
      "       ' LOCATION DESCRIPTION', 'ARREST', 'DOMESTIC', 'BEAT', 'WARD', 'FBI CD',\n",
      "       'X COORDINATE', 'Y COORDINATE', 'LATITUDE', 'LONGITUDE', 'LOCATION'],\n",
      "      dtype='object')\n"
     ]
    }
   ],
   "source": [
    "print(\"Row Count:\", num_rows)\n",
    "print(\"Column Count:\", num_columns)\n",
    "print(\"Column Names:\", column_names)"
   ]
  },
  {
   "cell_type": "code",
   "execution_count": 42,
   "id": "b49e521e-33fd-437c-bf66-fdb34c6585ad",
   "metadata": {
    "scrolled": true
   },
   "outputs": [
    {
     "name": "stdout",
     "output_type": "stream",
     "text": [
      "Number of unique values in 'PRIMARY DESCRIPTION' column: 31\n",
      "\n",
      "Unique values in ' PRIMARY DESCRIPTION' column:\n",
      "THEFT\n",
      "DECEPTIVE PRACTICE\n",
      "CRIMINAL DAMAGE\n",
      "OTHER OFFENSE\n",
      "BATTERY\n",
      "MOTOR VEHICLE THEFT\n",
      "NARCOTICS\n",
      "BURGLARY\n",
      "PUBLIC PEACE VIOLATION\n",
      "SEX OFFENSE\n",
      "ASSAULT\n",
      "CRIMINAL SEXUAL ASSAULT\n",
      "CRIMINAL TRESPASS\n",
      "WEAPONS VIOLATION\n",
      "OFFENSE INVOLVING CHILDREN\n",
      "ROBBERY\n",
      "HOMICIDE\n",
      "ARSON\n",
      "OBSCENITY\n",
      "INTIMIDATION\n",
      "KIDNAPPING\n",
      "STALKING\n",
      "LIQUOR LAW VIOLATION\n",
      "OTHER NARCOTIC VIOLATION\n",
      "INTERFERENCE WITH PUBLIC OFFICER\n",
      "HUMAN TRAFFICKING\n",
      "PROSTITUTION\n",
      "CONCEALED CARRY LICENSE VIOLATION\n",
      "PUBLIC INDECENCY\n",
      "GAMBLING\n",
      "NON-CRIMINAL\n"
     ]
    }
   ],
   "source": [
    "num_unique_values = df[' PRIMARY DESCRIPTION'].nunique()\n",
    "print(\"Number of unique values in 'PRIMARY DESCRIPTION' column:\", num_unique_values)\n",
    "\n",
    "unique_values = df[' PRIMARY DESCRIPTION'].unique()\n",
    "print(\"\\nUnique values in ' PRIMARY DESCRIPTION' column:\")\n",
    "for value in unique_values:\n",
    "    print(value)"
   ]
  },
  {
   "cell_type": "code",
   "execution_count": 43,
   "id": "66b576c3-9d69-4cb9-a1f2-9a4fd3b58d65",
   "metadata": {},
   "outputs": [
    {
     "name": "stdout",
     "output_type": "stream",
     "text": [
      "Index(['CASE#', 'DATE', 'BLOCK', ' IUCR', ' PRIMARY DESCRIPTION',\n",
      "       ' SECONDARY DESCRIPTION', ' LOCATION DESCRIPTION', 'ARREST', 'DOMESTIC',\n",
      "       'BEAT', 'WARD', 'FBI CD', 'X COORDINATE', 'Y COORDINATE', 'LATITUDE',\n",
      "       'LONGITUDE', 'LOCATION'],\n",
      "      dtype='object')\n"
     ]
    }
   ],
   "source": [
    "print(df.columns)"
   ]
  },
  {
   "cell_type": "code",
   "execution_count": 44,
   "id": "541802fa-1aff-4e0b-aff6-70a34258d9f8",
   "metadata": {},
   "outputs": [],
   "source": [
    "df['DATE'] = pd.to_datetime(df['DATE'], format='%m/%d/%Y %I:%M:%S %p')"
   ]
  },
  {
   "cell_type": "code",
   "execution_count": 45,
   "id": "13478617-a02e-4f6b-9bab-246337363ab4",
   "metadata": {},
   "outputs": [
    {
     "name": "stdout",
     "output_type": "stream",
     "text": [
      "Start: 2022-07-28 05:15:00 End: 2023-07-27 23:59:00\n"
     ]
    }
   ],
   "source": [
    "first_date = df['DATE'].min()\n",
    "last_date = df['DATE'].max()\n",
    "print(\"Start:\", first_date, \"End:\", last_date)"
   ]
  },
  {
   "cell_type": "code",
   "execution_count": 46,
   "id": "137a8f4f-5964-4aa2-a245-cacd5d139ce1",
   "metadata": {
    "scrolled": true
   },
   "outputs": [
    {
     "name": "stdout",
     "output_type": "stream",
     "text": [
      "           CASE#                DATE                     BLOCK  IUCR  \\\n",
      "66831   JF334407 2022-07-28 05:15:00  026XX N NARRAGANSETT AVE  0810   \n",
      "110518  JF334413 2022-07-28 05:28:00        071XX S EUCLID AVE  0560   \n",
      "55727   JF334409 2022-07-28 05:30:00          079XX S GREEN ST  0820   \n",
      "36008   JF334412 2022-07-28 05:30:00      058XX N GLENWOOD AVE  2820   \n",
      "49813   JF335715 2022-07-28 05:30:00       003XX E RANDOLPH ST  0810   \n",
      "12907   JF335647 2022-07-28 05:35:00      056XX N VIRGINIA AVE  1360   \n",
      "245     JF335698 2022-07-28 05:47:00        036XX S ARCHER AVE  1320   \n",
      "47554   JF334894 2022-07-28 05:48:00      060XX S OAK PARK AVE  2826   \n",
      "55090   JF334373 2022-07-28 05:49:00      049XX W MONTROSE AVE  0820   \n",
      "107868  JF334374 2022-07-28 05:50:00           028XX W 22ND PL  0460   \n",
      "\n",
      "        PRIMARY DESCRIPTION           SECONDARY DESCRIPTION  \\\n",
      "66831                 THEFT                       OVER $500   \n",
      "110518              ASSAULT                          SIMPLE   \n",
      "55727                 THEFT                  $500 AND UNDER   \n",
      "36008         OTHER OFFENSE                TELEPHONE THREAT   \n",
      "49813                 THEFT                       OVER $500   \n",
      "12907     CRIMINAL TRESPASS                      TO VEHICLE   \n",
      "245         CRIMINAL DAMAGE                      TO VEHICLE   \n",
      "47554         OTHER OFFENSE  HARASSMENT BY ELECTRONIC MEANS   \n",
      "55090                 THEFT                  $500 AND UNDER   \n",
      "107868              BATTERY                          SIMPLE   \n",
      "\n",
      "                          LOCATION DESCRIPTION ARREST DOMESTIC  BEAT  WARD  \\\n",
      "66831   PARKING LOT / GARAGE (NON RESIDENTIAL)      N        N  2512  36.0   \n",
      "110518                               APARTMENT      N        N   333   5.0   \n",
      "55727                                APARTMENT      N        N   621  17.0   \n",
      "36008                          OTHER (SPECIFY)      N        N  2013  48.0   \n",
      "49813                            PARK PROPERTY      N        N   114  42.0   \n",
      "12907                          OTHER (SPECIFY)      N        N  2011  40.0   \n",
      "245                         GROCERY FOOD STORE      N        N   912  12.0   \n",
      "47554             COMMERCIAL / BUSINESS OFFICE      N        N   812  23.0   \n",
      "55090                                   STREET      N        N  1623  45.0   \n",
      "107868             RESIDENCE - PORCH / HALLWAY      N        N  1033  12.0   \n",
      "\n",
      "       FBI CD  X COORDINATE  Y COORDINATE   LATITUDE  LONGITUDE  \\\n",
      "66831      06     1133297.0     1916857.0  41.928077 -87.785606   \n",
      "110518    08A     1190276.0     1858067.0  41.765565 -87.578131   \n",
      "55727      06     1172016.0     1852175.0  41.749817 -87.645232   \n",
      "36008     08A     1165931.0     1938685.0  41.987339 -87.665062   \n",
      "49813      06     1178722.0     1901251.0  41.884335 -87.619164   \n",
      "12907      26     1154995.0     1937365.0  41.983944 -87.705321   \n",
      "245        14           NaN           NaN        NaN        NaN   \n",
      "47554      26     1132121.0     1863662.0  41.782122 -87.791162   \n",
      "55090      06     1142784.0     1928804.0  41.960689 -87.750446   \n",
      "107868    08B     1157716.0     1888927.0  41.850971 -87.696636   \n",
      "\n",
      "                             LOCATION  \n",
      "66831   (41.928076536, -87.785606186)  \n",
      "110518  (41.765564594, -87.578131109)  \n",
      "55727   (41.749816651, -87.645232231)  \n",
      "36008   (41.987338819, -87.665062403)  \n",
      "49813   (41.884335468, -87.619164088)  \n",
      "12907    (41.98394378, -87.705321103)  \n",
      "245                               NaN  \n",
      "47554   (41.782121775, -87.791161899)  \n",
      "55090   (41.960688621, -87.750445924)  \n",
      "107868   (41.850970957, -87.69663625)  \n"
     ]
    }
   ],
   "source": [
    "sorted_df = df.sort_values(by='DATE')\n",
    "print(sorted_df.head(10))"
   ]
  },
  {
   "cell_type": "code",
   "execution_count": null,
   "id": "332a70d7-2e22-476e-aef9-fde706e8785b",
   "metadata": {},
   "outputs": [],
   "source": [
    "# Group data by 'Date' and 'Crime' and count the occurrences\n",
    "crime_counts = df.groupby(['DATE', ' PRIMARY DESCRIPTION']).size().reset_index(name='Occurrences')\n",
    "\n",
    "# Pivot the data to have 'Crime' as columns and 'Date' as index, with 'Occurrences' as values\n",
    "pivot_table = crime_counts.pivot(index='DATE', columns=' PRIMARY DESCRIPTION', values='Occurrences')\n",
    "\n",
    "# Fill missing values with 0 (if a specific crime did not occur on a date)\n",
    "pivot_table.fillna(0, inplace=True)\n",
    "\n",
    "# Plot the data using stacked bar plot\n",
    "pivot_table.plot(kind='bar', stacked=True, figsize=(12, 6))\n",
    "\n",
    "# Add title and axis labels (customize as needed)\n",
    "plt.title('CHICAGO CRIME JULY 2022 - JULY 2023')\n",
    "plt.xlabel('JULY 2022 - JULY 2023')\n",
    "plt.ylabel('Number of Occurrences')\n",
    "\n",
    "# Show the plot\n",
    "plt.show()\n"
   ]
  }
 ],
 "metadata": {
  "kernelspec": {
   "display_name": "Python 3 (ipykernel)",
   "language": "python",
   "name": "python3"
  },
  "language_info": {
   "codemirror_mode": {
    "name": "ipython",
    "version": 3
   },
   "file_extension": ".py",
   "mimetype": "text/x-python",
   "name": "python",
   "nbconvert_exporter": "python",
   "pygments_lexer": "ipython3",
   "version": "3.10.9"
  }
 },
 "nbformat": 4,
 "nbformat_minor": 5
}
