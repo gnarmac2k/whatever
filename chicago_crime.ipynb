{
 "cells": [
  {
   "cell_type": "code",
   "execution_count": null,
   "id": "64a1b0e1-c008-41c6-9599-bce311597b5f",
   "metadata": {},
   "outputs": [],
   "source": [
    "import pandas as pd\n",
    "import seaborn as sns\n",
    "import matplotlib.pyplot as plt\n",
    "import plotly.graph_objects as go\n",
    "df = pd.read_csv(\"crime_map_data.csv\")"
   ]
  },
  {
   "cell_type": "code",
   "execution_count": null,
   "id": "e0355598-f443-4bc4-8943-9e2cef5d13cc",
   "metadata": {},
   "outputs": [],
   "source": [
    "num_rows, num_columns = df.shape\n",
    "column_names = df.columns\n",
    "df.rename(columns={'DATE  OF OCCURRENCE': 'DATE'}, inplace=True)"
   ]
  },
  {
   "cell_type": "code",
   "execution_count": null,
   "id": "e3b35307-b6dc-4a17-a9f2-9efaad8dd260",
   "metadata": {},
   "outputs": [],
   "source": [
    "print(\"Row Count:\", num_rows)\n",
    "print(\"Column Count:\", num_columns)\n",
    "print(\"Column Names:\", column_names)"
   ]
  },
  {
   "cell_type": "code",
   "execution_count": null,
   "id": "b49e521e-33fd-437c-bf66-fdb34c6585ad",
   "metadata": {
    "scrolled": true
   },
   "outputs": [],
   "source": [
    "num_unique_values = df[' PRIMARY DESCRIPTION'].nunique()\n",
    "print(\"Number of unique values in 'PRIMARY DESCRIPTION' column:\", num_unique_values)\n",
    "\n",
    "unique_values = df[' PRIMARY DESCRIPTION'].unique()\n",
    "print(\"\\nUnique values in ' PRIMARY DESCRIPTION' column:\")\n",
    "for value in unique_values:\n",
    "    print(value)"
   ]
  },
  {
   "cell_type": "code",
   "execution_count": null,
   "id": "66b576c3-9d69-4cb9-a1f2-9a4fd3b58d65",
   "metadata": {},
   "outputs": [],
   "source": [
    "print(df.columns)"
   ]
  },
  {
   "cell_type": "code",
   "execution_count": null,
   "id": "541802fa-1aff-4e0b-aff6-70a34258d9f8",
   "metadata": {},
   "outputs": [],
   "source": [
    "df['DATE'] = pd.to_datetime(df['DATE'], format='%m/%d/%Y %I:%M:%S %p')"
   ]
  },
  {
   "cell_type": "code",
   "execution_count": null,
   "id": "13478617-a02e-4f6b-9bab-246337363ab4",
   "metadata": {},
   "outputs": [],
   "source": [
    "first_date = df['DATE'].min()\n",
    "last_date = df['DATE'].max()\n",
    "print(\"Start:\", first_date, \"End:\", last_date)"
   ]
  },
  {
   "cell_type": "code",
   "execution_count": null,
   "id": "137a8f4f-5964-4aa2-a245-cacd5d139ce1",
   "metadata": {
    "scrolled": true
   },
   "outputs": [],
   "source": [
    "sorted_df = df.sort_values(by='DATE')\n",
    "print(sorted_df.head(10))"
   ]
  },
  {
   "cell_type": "code",
   "execution_count": null,
   "id": "332a70d7-2e22-476e-aef9-fde706e8785b",
   "metadata": {},
   "outputs": [],
   "source": [
    "# Group data by 'Date' and 'Crime' and count the occurrences\n",
    "crime_counts = df.groupby(['DATE', ' PRIMARY DESCRIPTION']).size().reset_index(name='Occurrences')\n",
    "\n",
    "# Pivot the data to have 'Crime' as columns and 'Date' as index, with 'Occurrences' as values\n",
    "pivot_table = crime_counts.pivot(index='DATE', columns=' PRIMARY DESCRIPTION', values='Occurrences')\n",
    "\n",
    "# Fill missing values with 0 (if a specific crime did not occur on a date)\n",
    "pivot_table.fillna(0, inplace=True)\n",
    "\n",
    "# Plot the data using stacked bar plot\n",
    "pivot_table.plot(kind='bar', stacked=True, figsize=(12, 6))\n",
    "\n",
    "# Add title and axis labels (customize as needed)\n",
    "plt.title('CHICAGO CRIME JULY 2022 - JULY 2023')\n",
    "plt.xlabel('JULY 2022 - JULY 2023')\n",
    "plt.ylabel('Number of Occurrences')\n",
    "\n",
    "# Show the plot\n",
    "plt.show()"
   ]
  }
 ],
 "metadata": {
  "kernelspec": {
   "display_name": "Python 3 (ipykernel)",
   "language": "python",
   "name": "python3"
  },
  "language_info": {
   "codemirror_mode": {
    "name": "ipython",
    "version": 3
   },
   "file_extension": ".py",
   "mimetype": "text/x-python",
   "name": "python",
   "nbconvert_exporter": "python",
   "pygments_lexer": "ipython3",
   "version": "3.7.13"
  }
 },
 "nbformat": 4,
 "nbformat_minor": 5
}
